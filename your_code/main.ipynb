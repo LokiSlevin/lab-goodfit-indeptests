{
 "cells": [
  {
   "cell_type": "markdown",
   "metadata": {},
   "source": [
    "## Question 1\n",
    "The following table indicates the number of 6-point scores in an American rugby match in the 1979 season.\n",
    "\n",
    "![](table1.png)\n",
    "\n",
    "Based on these results, we create a Poisson distribution with the sample mean parameter  = 2.435. Is there any reason to believe that at a .05 level the number of scores is a Poisson variable?"
   ]
  },
  {
   "cell_type": "code",
   "execution_count": 32,
   "metadata": {},
   "outputs": [],
   "source": [
    "import scipy.stats as st\n",
    "from scipy.stats import poisson\n",
    "from scipy.stats import binom\n",
    "import pandas as pd"
   ]
  },
  {
   "cell_type": "code",
   "execution_count": 15,
   "metadata": {},
   "outputs": [],
   "source": [
    "# your answer here\n",
    "\n",
    "'''\n",
    "\n",
    "h0: the number of scores is a Poisson variable\n",
    "h1: the number of scores doesn't follow a Poisson distribution\n",
    "\n",
    "'''\n",
    "\n",
    "mu = 2.435\n",
    "poisson_dist = poisson(mu)"
   ]
  },
  {
   "cell_type": "code",
   "execution_count": 18,
   "metadata": {},
   "outputs": [],
   "source": [
    "obs = [35, 99, 104, 110, 62, 25, 10, 3]\n",
    "total = 448\n",
    "exp = []\n",
    "for i in range(8):\n",
    "    exp.append(poisson_dist.pmf(i) * total)"
   ]
  },
  {
   "cell_type": "code",
   "execution_count": 17,
   "metadata": {},
   "outputs": [
    {
     "name": "stdout",
     "output_type": "stream",
     "text": [
      "chisq: 5.477637, p_value: 0.601883\n",
      "Fail to reject the null hypothesis\n"
     ]
    }
   ],
   "source": [
    "(chisq, p_value) = st.chisquare(exp, obs)\n",
    "print('chisq: %f, p_value: %f' % (chisq, p_value))\n",
    "if p_value > 0.05:\n",
    "     print(\"Fail to reject the null hypothesis\")\n",
    "else:\n",
    "     print(\"Reject the null hypothesis\")"
   ]
  },
  {
   "cell_type": "code",
   "execution_count": null,
   "metadata": {},
   "outputs": [],
   "source": [
    "# we can't reject that the number of scores is a Poisson variable"
   ]
  },
  {
   "cell_type": "markdown",
   "metadata": {},
   "source": [
    "## BONUS/OPTIONAL - Question 2\n",
    "Let's analyze a discrete distribution. To analyze the number of defective items in a factory in the city of Medellín, we took a random sample of n = 60 articles and observed the number of defectives in the following table:\n",
    "\n",
    "![](table2.png)\n",
    "\n",
    "A poissón distribution was proposed since it is defined for x = 0,1,2,3, .... using the following model:\n",
    "\n",
    "![](image1.png)\n",
    "\n",
    "For some extra insights check the following link: https://online.stat.psu.edu/stat504/node/63/ \n",
    "\n",
    "Does the distribution of defective items follow this distribution?"
   ]
  },
  {
   "cell_type": "code",
   "execution_count": 19,
   "metadata": {},
   "outputs": [],
   "source": [
    "# your code here\n",
    "'''\n",
    "\n",
    "h0: the distribution of defective items follow Poisson distribution\n",
    "h1: the distribution of defective items doesn't follow Poisson distribution\n",
    "\n",
    "'''\n",
    "\n",
    "obs = [32, 15, 9, 4]\n",
    "total = 60\n",
    "mu = ((32 * 0) + (15 * 1) + (9 * 3) + (4 * 4)) / total\n",
    "poisson_dist = poisson(mu)"
   ]
  },
  {
   "cell_type": "code",
   "execution_count": 20,
   "metadata": {},
   "outputs": [],
   "source": [
    "exp = []\n",
    "for i in range(4):\n",
    "    exp.append(poisson_dist.pmf(i) * total)"
   ]
  },
  {
   "cell_type": "code",
   "execution_count": 21,
   "metadata": {},
   "outputs": [
    {
     "name": "stdout",
     "output_type": "stream",
     "text": [
      "chisq: 6.342798, p_value: 0.096073\n",
      "Fail to reject the null hypothesis\n"
     ]
    }
   ],
   "source": [
    "(chisq, p_value) = st.chisquare(exp, obs)\n",
    "print('chisq: %f, p_value: %f' % (chisq, p_value))\n",
    "if p_value > 0.05:\n",
    "     print(\"Fail to reject the null hypothesis\")\n",
    "else:\n",
    "     print(\"Reject the null hypothesis\")"
   ]
  },
  {
   "cell_type": "code",
   "execution_count": null,
   "metadata": {},
   "outputs": [],
   "source": [
    "# we can't reject that the distribution of defective items follow Poisson distribution"
   ]
  },
  {
   "cell_type": "markdown",
   "metadata": {},
   "source": [
    "## Question 3\n",
    "A quality control engineer takes a sample of 10 tires that come out of an assembly line, and would like to verify on the basis of the data that follows, if the number of tires with defects observed over 200 days, if it is true that 5% of all tires have defects (that is, if the sample comes from a binomial population with n = 10 and p = 0.05). \n",
    "\n",
    "![](table3.png)\n"
   ]
  },
  {
   "cell_type": "code",
   "execution_count": 25,
   "metadata": {},
   "outputs": [],
   "source": [
    "# your answer here\n",
    "\n",
    "'''\n",
    "\n",
    "h0: the sample comes from a binomial population\n",
    "h1: the sample doesn't come from a binomial population\n",
    "\n",
    "'''\n",
    "\n",
    "obs = [138, 53, 9]\n",
    "n = 10\n",
    "p = 0.05\n",
    "days = 200\n",
    "binomial_dist = binom(n, p)"
   ]
  },
  {
   "cell_type": "code",
   "execution_count": 26,
   "metadata": {},
   "outputs": [],
   "source": [
    "exp = []\n",
    "for i in range(3):\n",
    "    exp.append(binomial_dist.pmf(i) * days)"
   ]
  },
  {
   "cell_type": "code",
   "execution_count": 27,
   "metadata": {},
   "outputs": [
    {
     "name": "stdout",
     "output_type": "stream",
     "text": [
      "chisq: 8.213609, p_value: 0.016460\n",
      "Reject the null hypothesis\n"
     ]
    }
   ],
   "source": [
    "(chisq, p_value) = st.chisquare(exp, obs)\n",
    "print('chisq: %f, p_value: %f' % (chisq, p_value))\n",
    "if p_value > 0.05:\n",
    "     print(\"Fail to reject the null hypothesis\")\n",
    "else:\n",
    "     print(\"Reject the null hypothesis\")"
   ]
  },
  {
   "cell_type": "code",
   "execution_count": null,
   "metadata": {},
   "outputs": [],
   "source": [
    "# we can reject that the sample comes from a binomial population"
   ]
  },
  {
   "cell_type": "markdown",
   "metadata": {},
   "source": [
    "## Question 4\n",
    "A researcher gathers information about the patterns of Physical Activity of children in the fifth grade of primary school of a public school. He defines three categories of physical activity (Low, Medium, High). He also inquires about the regular consumption of sugary drinks at school, and defines two categories (Yes = consumed, No = not consumed). We would like to evaluate if there is an association between patterns of physical activity and the consumption of sugary drinks for the children of this school, at a level of 5% significance. The results are in the following table: \n",
    "\n",
    "![](table4.png)"
   ]
  },
  {
   "cell_type": "code",
   "execution_count": 37,
   "metadata": {},
   "outputs": [
    {
     "name": "stdout",
     "output_type": "stream",
     "text": [
      "p_value: 0.004719\n",
      "Reject the null hypothesis\n"
     ]
    }
   ],
   "source": [
    "#your answer here\n",
    "\n",
    "'''\n",
    "\n",
    "h0: there is an association between physical activity and the consumption of sugary drinks \n",
    "h1: there isn't an association between physical activity and the consumption of sugary drinks \n",
    "\n",
    "'''\n",
    "\n",
    "obs = {'low' : [32, 12],\n",
    "        'medium' : [14, 22],\n",
    "        'high' : [6, 9]}\n",
    "\n",
    "df = pd.DataFrame(obs).T\n",
    "\n",
    "(p_value) = st.chi2_contingency(df)[1]\n",
    "print('p_value: %f' % (p_value))\n",
    "if p_value > 0.05:\n",
    "     print(\"Fail to reject the null hypothesis\")\n",
    "else:\n",
    "     print(\"Reject the null hypothesis\")"
   ]
  },
  {
   "cell_type": "code",
   "execution_count": null,
   "metadata": {},
   "outputs": [],
   "source": [
    "# we can reject that there is an association between physical activity and the consumption \n",
    "# of sugary drinks for the children of this school"
   ]
  }
 ],
 "metadata": {
  "kernelspec": {
   "display_name": "Python 3",
   "language": "python",
   "name": "python3"
  },
  "language_info": {
   "codemirror_mode": {
    "name": "ipython",
    "version": 3
   },
   "file_extension": ".py",
   "mimetype": "text/x-python",
   "name": "python",
   "nbconvert_exporter": "python",
   "pygments_lexer": "ipython3",
   "version": "3.8.8"
  }
 },
 "nbformat": 4,
 "nbformat_minor": 4
}
